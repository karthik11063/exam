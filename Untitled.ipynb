{
 "cells": [
  {
   "cell_type": "code",
   "execution_count": 21,
   "id": "107c429d",
   "metadata": {},
   "outputs": [],
   "source": [
    "import numpy as np"
   ]
  },
  {
   "cell_type": "code",
   "execution_count": 22,
   "id": "3b6c4eb7",
   "metadata": {},
   "outputs": [],
   "source": [
    "a=np.array([1,2,3])\n",
    "b=np.array([2,3,4])"
   ]
  },
  {
   "cell_type": "code",
   "execution_count": 23,
   "id": "a686194a",
   "metadata": {},
   "outputs": [
    {
     "name": "stdout",
     "output_type": "stream",
     "text": [
      "dot product of oe dimensions is: 20\n"
     ]
    }
   ],
   "source": [
    "print(\"dot product of oe dimensions is:\",np.dot(a,b))"
   ]
  },
  {
   "cell_type": "code",
   "execution_count": 24,
   "id": "05d04096",
   "metadata": {},
   "outputs": [
    {
     "name": "stdout",
     "output_type": "stream",
     "text": [
      "eloement multiplication of matirx [[ 1  4]\n",
      " [ 9 16]]\n"
     ]
    }
   ],
   "source": [
    "a=np.array([[1,2],[3,4]])\n",
    "b=np.array([[1,2],[3,4]])\n",
    "print(\"eloement multiplication of matirx\",np.multiply(a,b))"
   ]
  },
  {
   "cell_type": "code",
   "execution_count": 25,
   "id": "d9c11952",
   "metadata": {},
   "outputs": [
    {
     "name": "stdout",
     "output_type": "stream",
     "text": [
      "matrix multiplication  [[ 7 10]\n",
      " [15 22]]\n"
     ]
    }
   ],
   "source": [
    "print(\"matrix multiplication \",np.matmul(a,b))"
   ]
  },
  {
   "cell_type": "code",
   "execution_count": 26,
   "id": "70eda36b",
   "metadata": {},
   "outputs": [
    {
     "name": "stdout",
     "output_type": "stream",
     "text": [
      "eigen values: [-0.37228132  5.37228132] eigen vector: [[-0.82456484 -0.41597356]\n",
      " [ 0.56576746 -0.90937671]]\n"
     ]
    }
   ],
   "source": [
    "import numpy as np\n",
    "a=np.array([[1,2],[3,4]])\n",
    "eigvalues,eigvectors=np.linalg.eig(a)\n",
    "print(\"eigen values:\",eigvalues,\"eigen vector:\",eigvectors)"
   ]
  },
  {
   "cell_type": "code",
   "execution_count": 27,
   "id": "63df8ad9",
   "metadata": {},
   "outputs": [
    {
     "name": "stdout",
     "output_type": "stream",
     "text": [
      "linear equation: [[2.]\n",
      " [3.]]\n"
     ]
    }
   ],
   "source": [
    "a=np.array([[3,1],[1,2]])\n",
    "b=np.array([[9],[8]])\n",
    "a_inv=np.linalg.inv(a)\n",
    "e=np.matmul(a_inv,b)\n",
    "print(\"linear equation:\",e)"
   ]
  },
  {
   "cell_type": "code",
   "execution_count": 28,
   "id": "83f77905",
   "metadata": {},
   "outputs": [
    {
     "name": "stdout",
     "output_type": "stream",
     "text": [
      "a inverse: [[ 0.4 -0.2]\n",
      " [-0.2  0.6]]\n"
     ]
    }
   ],
   "source": [
    "a=np.array([[3,1],[1,2]])\n",
    "a_inv=np.linalg.inv(a)\n",
    "print(\"a inverse:\",a_inv)"
   ]
  },
  {
   "cell_type": "code",
   "execution_count": 29,
   "id": "0bcde1da",
   "metadata": {},
   "outputs": [
    {
     "name": "stdout",
     "output_type": "stream",
     "text": [
      "rank: 2\n"
     ]
    }
   ],
   "source": [
    "a=np.array([[3,1],[1,2]])\n",
    "b=np.linalg.matrix_rank(a)\n",
    "print(\"rank:\",b)"
   ]
  },
  {
   "cell_type": "code",
   "execution_count": 30,
   "id": "aadc1a25",
   "metadata": {},
   "outputs": [
    {
     "name": "stdout",
     "output_type": "stream",
     "text": [
      "determinent: 5.000000000000001\n"
     ]
    }
   ],
   "source": [
    "a=np.array([[3,1],[1,2]])\n",
    "b=np.linalg.det(a)\n",
    "print(\"determinent:\",b)"
   ]
  },
  {
   "cell_type": "code",
   "execution_count": null,
   "id": "052d544b",
   "metadata": {},
   "outputs": [],
   "source": []
  },
  {
   "cell_type": "code",
   "execution_count": null,
   "id": "02936647",
   "metadata": {},
   "outputs": [],
   "source": []
  },
  {
   "cell_type": "code",
   "execution_count": null,
   "id": "a7014316",
   "metadata": {},
   "outputs": [],
   "source": []
  },
  {
   "cell_type": "code",
   "execution_count": null,
   "id": "1076a465",
   "metadata": {},
   "outputs": [],
   "source": []
  },
  {
   "cell_type": "code",
   "execution_count": null,
   "id": "36707a1d",
   "metadata": {},
   "outputs": [],
   "source": []
  },
  {
   "cell_type": "code",
   "execution_count": null,
   "id": "3ee8fbb0",
   "metadata": {},
   "outputs": [],
   "source": []
  },
  {
   "cell_type": "code",
   "execution_count": null,
   "id": "48af4db2",
   "metadata": {},
   "outputs": [],
   "source": []
  },
  {
   "cell_type": "code",
   "execution_count": null,
   "id": "8a24d648",
   "metadata": {},
   "outputs": [],
   "source": []
  },
  {
   "cell_type": "code",
   "execution_count": null,
   "id": "06eb8f4b",
   "metadata": {},
   "outputs": [],
   "source": []
  },
  {
   "cell_type": "code",
   "execution_count": null,
   "id": "aea7be04",
   "metadata": {},
   "outputs": [],
   "source": []
  },
  {
   "cell_type": "code",
   "execution_count": null,
   "id": "debbf8b1",
   "metadata": {},
   "outputs": [],
   "source": []
  },
  {
   "cell_type": "code",
   "execution_count": null,
   "id": "c997e2ed",
   "metadata": {},
   "outputs": [],
   "source": []
  },
  {
   "cell_type": "code",
   "execution_count": null,
   "id": "1d559a18",
   "metadata": {},
   "outputs": [],
   "source": []
  },
  {
   "cell_type": "code",
   "execution_count": null,
   "id": "bfe6e330",
   "metadata": {},
   "outputs": [],
   "source": []
  },
  {
   "cell_type": "code",
   "execution_count": null,
   "id": "1afefafd",
   "metadata": {},
   "outputs": [],
   "source": []
  },
  {
   "cell_type": "code",
   "execution_count": null,
   "id": "05855b47",
   "metadata": {},
   "outputs": [],
   "source": []
  },
  {
   "cell_type": "code",
   "execution_count": null,
   "id": "58a16790",
   "metadata": {},
   "outputs": [],
   "source": []
  },
  {
   "cell_type": "code",
   "execution_count": null,
   "id": "5b32c266",
   "metadata": {},
   "outputs": [],
   "source": []
  }
 ],
 "metadata": {
  "kernelspec": {
   "display_name": "Python 3",
   "language": "python",
   "name": "python3"
  },
  "language_info": {
   "codemirror_mode": {
    "name": "ipython",
    "version": 3
   },
   "file_extension": ".py",
   "mimetype": "text/x-python",
   "name": "python",
   "nbconvert_exporter": "python",
   "pygments_lexer": "ipython3",
   "version": "3.8.8"
  }
 },
 "nbformat": 4,
 "nbformat_minor": 5
}
